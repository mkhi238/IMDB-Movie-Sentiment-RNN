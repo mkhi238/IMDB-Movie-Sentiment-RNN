{
  "cells": [
    {
      "cell_type": "code",
      "execution_count": null,
      "metadata": {
        "colab": {
          "base_uri": "https://localhost:8080/"
        },
        "id": "hFeNJceOd7mq",
        "outputId": "08eec2e3-4a6e-4fb9-b042-02973bd81879"
      },
      "outputs": [
        {
          "output_type": "stream",
          "name": "stdout",
          "text": [
            "Drive already mounted at /content/drive; to attempt to forcibly remount, call drive.mount(\"/content/drive\", force_remount=True).\n"
          ]
        }
      ],
      "source": [
        "from google.colab import drive\n",
        "drive.mount('/content/drive')\n",
        "\n",
        "import torch\n",
        "import torchtext\n",
        "import csv\n",
        "import torch.nn as nn\n",
        "import matplotlib.pyplot as plt\n"
      ]
    },
    {
      "cell_type": "code",
      "execution_count": null,
      "metadata": {
        "colab": {
          "base_uri": "https://localhost:8080/"
        },
        "id": "e5DeDxmXeGPS",
        "outputId": "3c87e1bd-1a46-441a-e609-9c616d354d68"
      },
      "outputs": [
        {
          "output_type": "stream",
          "name": "stdout",
          "text": [
            "0 [\"One of the other reviewers has mentioned that after watching just 1 Oz episode you'll be hooked. They are right, as this is exactly what happened with me.<br /><br />The first thing that struck me about Oz was its brutality and unflinching scenes of violence, which set in right from the word GO. Trust me, this is not a show for the faint hearted or timid. This show pulls no punches with regards to drugs, sex or violence. Its is hardcore, in the classic use of the word.<br /><br />It is called OZ as that is the nickname given to the Oswald Maximum Security State Penitentary. It focuses mainly on Emerald City, an experimental section of the prison where all the cells have glass fronts and face inwards, so privacy is not high on the agenda. Em City is home to many..Aryans, Muslims, gangstas, Latinos, Christians, Italians, Irish and more....so scuffles, death stares, dodgy dealings and shady agreements are never far away.<br /><br />I would say the main appeal of the show is due to the fact that it goes where other shows wouldn't dare. Forget pretty pictures painted for mainstream audiences, forget charm, forget romance...OZ doesn't mess around. The first episode I ever saw struck me as so nasty it was surreal, I couldn't say I was ready for it, but as I watched more, I developed a taste for Oz, and got accustomed to the high levels of graphic violence. Not just violence, but injustice (crooked guards who'll be sold out for a nickel, inmates who'll kill on order and get away with it, well mannered, middle class inmates being turned into prison bitches due to their lack of street skills or prison experience) Watching Oz, you may become comfortable with what is uncomfortable viewing....thats if you can get in touch with your darker side.\", 'positive', '1']\n",
            "1 ['A wonderful little production. <br /><br />The filming technique is very unassuming- very old-time-BBC fashion and gives a comforting, and sometimes discomforting, sense of realism to the entire piece. <br /><br />The actors are extremely well chosen- Michael Sheen not only \"has got all the polari\" but he has all the voices down pat too! You can truly see the seamless editing guided by the references to Williams\\' diary entries, not only is it well worth the watching but it is a terrificly written and performed piece. A masterful production about one of the great master\\'s of comedy and his life. <br /><br />The realism really comes home with the little things: the fantasy of the guard which, rather than use the traditional \\'dream\\' techniques remains solid then disappears. It plays on our knowledge and our senses, particularly with the scenes concerning Orton and Halliwell and the sets (particularly of their flat with Halliwell\\'s murals decorating every surface) are terribly well done.', 'positive', '1']\n",
            "2 ['I thought this was a wonderful way to spend time on a too hot summer weekend, sitting in the air conditioned theater and watching a light-hearted comedy. The plot is simplistic, but the dialogue is witty and the characters are likable (even the well bread suspected serial killer). While some may be disappointed when they realize this is not Match Point 2: Risk Addiction, I thought it was proof that Woody Allen is still fully in control of the style many of us have grown to love.<br /><br />This was the most I\\'d laughed at one of Woody\\'s comedies in years (dare I say a decade?). While I\\'ve never been impressed with Scarlet Johanson, in this she managed to tone down her \"sexy\" image and jumped right into a average, but spirited young woman.<br /><br />This may not be the crown jewel of his career, but it was wittier than \"Devil Wears Prada\" and more interesting than \"Superman\" a great comedy to go see with friends.', 'positive', '1']\n",
            "3 [\"Basically there's a family where a little boy (Jake) thinks there's a zombie in his closet & his parents are fighting all the time.<br /><br />This movie is slower than a soap opera... and suddenly, Jake decides to become Rambo and kill the zombie.<br /><br />OK, first of all when you're going to make a film you must Decide if its a thriller or a drama! As a drama the movie is watchable. Parents are divorcing & arguing like in real life. And then we have Jake with his closet which totally ruins all the film! I expected to see a BOOGEYMAN similar movie, and instead i watched a drama with some meaningless thriller spots.<br /><br />3 out of 10 just for the well playing parents & descent dialogs. As for the shots with Jake: just ignore them.\", 'negative', '0']\n",
            "Basically there's a family where a little boy (Jake) thinks there's a zombie in his closet & his parents are fighting all the time.<br /><br />This movie is slower than a soap opera... and suddenly, Jake decides to become Rambo and kill the zombie.<br /><br />OK, first of all when you're going to make a film you must Decide if its a thriller or a drama! As a drama the movie is watchable. Parents are divorcing & arguing like in real life. And then we have Jake with his closet which totally ruins all the film! I expected to see a BOOGEYMAN similar movie, and instead i watched a drama with some meaningless thriller spots.<br /><br />3 out of 10 just for the well playing parents & descent dialogs. As for the shots with Jake: just ignore them. negative 0\n"
          ]
        }
      ],
      "source": [
        "file_dir = '/content/drive/My Drive/Colab Notebooks/IMDB Reviews/'\n",
        "\n",
        "def get_data():\n",
        "  data = csv.reader(open(file_dir + \"IMDB_Dataset.csv\",\"rt\", encoding=\"latin-1\"))\n",
        "  next(data)\n",
        "  return data\n",
        "\n",
        "for i,line in enumerate(get_data()):\n",
        "  print(i,line)\n",
        "  if line[2] == '0':\n",
        "\n",
        "    print(line[0],line[1],line[2])\n",
        "    break"
      ]
    },
    {
      "cell_type": "code",
      "execution_count": null,
      "metadata": {
        "id": "h6JDH-4Efj_O",
        "colab": {
          "base_uri": "https://localhost:8080/"
        },
        "outputId": "a97febae-70b5-43d8-9838-febfd0d7631f"
      },
      "outputs": [
        {
          "output_type": "stream",
          "name": "stderr",
          "text": [
            ".vector_cache/glove.6B.zip: 862MB [02:39, 5.39MB/s]                           \n",
            "100%|█████████▉| 24999/25000 [00:01<00:00, 16829.15it/s]\n"
          ]
        }
      ],
      "source": [
        "glove = torchtext.vocab.GloVe(name=\"6B\", dim=100, max_vectors = 25000)"
      ]
    },
    {
      "cell_type": "code",
      "execution_count": null,
      "metadata": {
        "id": "ka17UnoahIDV"
      },
      "outputs": [],
      "source": [
        "def split_review(review):\n",
        "  review = review.replace(\".\",\" . \") \\\n",
        "                      .replace(\"?\",\" ? \") \\\n",
        "                      .replace(\";\",\" ; \") \\\n",
        "                      .replace(\",\",\" , \") \\\n",
        "                      .replace(\"$\",\" $ \") \\\n",
        "                      .replace(\"-\",\" - \") \\\n",
        "                      .replace(\"(\", \" ( \") \\\n",
        "                      .replace(\")\", \" ) \") \\\n",
        "                      .replace('\"', ' \" ') \\\n",
        "                      .replace(\"!\", \" ! \") \\\n",
        "                      .replace(\"'\", \" ' \") \\\n",
        "\n",
        "  words = review.lower().split()\n",
        "  return words"
      ]
    },
    {
      "cell_type": "code",
      "execution_count": null,
      "metadata": {
        "colab": {
          "base_uri": "https://localhost:8080/"
        },
        "id": "RajahcCojiKn",
        "outputId": "442baf7e-ff88-4567-8482-d4a5c243b7a4"
      },
      "outputs": [
        {
          "output_type": "stream",
          "name": "stdout",
          "text": [
            "353\n",
            "172\n",
            "187\n",
            "149\n",
            "244\n",
            "148\n",
            "168\n",
            "201\n",
            "143\n",
            "37\n",
            "93\n",
            "190\n",
            "413\n",
            "122\n",
            "57\n",
            "167\n",
            "155\n",
            "261\n",
            "131\n",
            "153\n",
            "356\n",
            "219\n",
            "83\n",
            "387\n",
            "173\n",
            "126\n",
            "646\n",
            "152\n",
            "147\n",
            "682\n",
            "471\n",
            "381\n",
            "120\n",
            "726\n",
            "291\n",
            "435\n",
            "111\n",
            "332\n",
            "140\n",
            "320\n",
            "129\n",
            "228\n",
            "203\n",
            "291\n",
            "213\n",
            "257\n",
            "77\n",
            "167\n",
            "773\n",
            "104\n",
            "462\n"
          ]
        }
      ],
      "source": [
        "for i, line in enumerate(get_data()):\n",
        "  if i > 50:\n",
        "    break\n",
        "  print(sum(int(w in glove.stoi) for w in split_review(line[0])))\n"
      ]
    },
    {
      "cell_type": "code",
      "execution_count": null,
      "metadata": {
        "id": "-muBfD-pjij3"
      },
      "outputs": [],
      "source": [
        "def get_reviews(glove_vectors):\n",
        "  train = []\n",
        "  validation = []\n",
        "  test = []\n",
        "  num_classes = 3\n",
        "  for i, line in enumerate(get_data()):\n",
        "    review = line[0]\n",
        "    review_emb = sum(glove_vectors[j] for j in split_review(review))\n",
        "    label_mapping = {\"0\": 0, \"1\": 1}\n",
        "    label = torch.tensor(label_mapping[line[2]]).long()\n",
        "\n",
        "\n",
        "    if i % 10 < 8:\n",
        "      train.append((review_emb,label))\n",
        "    elif i % 10 == 9:\n",
        "      validation.append((review_emb,label))\n",
        "    else:\n",
        "      test.append((review_emb,label))\n",
        "\n",
        "  return train, validation, test"
      ]
    },
    {
      "cell_type": "code",
      "execution_count": null,
      "metadata": {
        "id": "v2cT_Ucy0Gc1"
      },
      "outputs": [],
      "source": [
        "glove = torchtext.vocab.GloVe(name=\"6B\", dim=100, max_vectors = 25000)"
      ]
    },
    {
      "cell_type": "code",
      "execution_count": null,
      "metadata": {
        "id": "5lprkfW20GUm"
      },
      "outputs": [],
      "source": [
        "train, validation, test = get_reviews(glove)\n",
        "\n",
        "train_loader = torch.utils.data.DataLoader(train, batch_size=64, shuffle=True)\n",
        "valid_loader = torch.utils.data.DataLoader(validation, batch_size=64, shuffle=True)\n",
        "test_loader = torch.utils.data.DataLoader(test, batch_size=64, shuffle=True)"
      ]
    },
    {
      "cell_type": "code",
      "execution_count": null,
      "metadata": {
        "colab": {
          "base_uri": "https://localhost:8080/"
        },
        "id": "veuYe3By0Qov",
        "outputId": "9dd8f6be-2638-4a09-8318-b20ba9374645"
      },
      "outputs": [
        {
          "output_type": "stream",
          "name": "stdout",
          "text": [
            "0 [\"One of the other reviewers has mentioned that after watching just 1 Oz episode you'll be hooked. They are right, as this is exactly what happened with me.<br /><br />The first thing that struck me about Oz was its brutality and unflinching scenes of violence, which set in right from the word GO. Trust me, this is not a show for the faint hearted or timid. This show pulls no punches with regards to drugs, sex or violence. Its is hardcore, in the classic use of the word.<br /><br />It is called OZ as that is the nickname given to the Oswald Maximum Security State Penitentary. It focuses mainly on Emerald City, an experimental section of the prison where all the cells have glass fronts and face inwards, so privacy is not high on the agenda. Em City is home to many..Aryans, Muslims, gangstas, Latinos, Christians, Italians, Irish and more....so scuffles, death stares, dodgy dealings and shady agreements are never far away.<br /><br />I would say the main appeal of the show is due to the fact that it goes where other shows wouldn't dare. Forget pretty pictures painted for mainstream audiences, forget charm, forget romance...OZ doesn't mess around. The first episode I ever saw struck me as so nasty it was surreal, I couldn't say I was ready for it, but as I watched more, I developed a taste for Oz, and got accustomed to the high levels of graphic violence. Not just violence, but injustice (crooked guards who'll be sold out for a nickel, inmates who'll kill on order and get away with it, well mannered, middle class inmates being turned into prison bitches due to their lack of street skills or prison experience) Watching Oz, you may become comfortable with what is uncomfortable viewing....thats if you can get in touch with your darker side.\", 'positive', '1']\n",
            "1 ['A wonderful little production. <br /><br />The filming technique is very unassuming- very old-time-BBC fashion and gives a comforting, and sometimes discomforting, sense of realism to the entire piece. <br /><br />The actors are extremely well chosen- Michael Sheen not only \"has got all the polari\" but he has all the voices down pat too! You can truly see the seamless editing guided by the references to Williams\\' diary entries, not only is it well worth the watching but it is a terrificly written and performed piece. A masterful production about one of the great master\\'s of comedy and his life. <br /><br />The realism really comes home with the little things: the fantasy of the guard which, rather than use the traditional \\'dream\\' techniques remains solid then disappears. It plays on our knowledge and our senses, particularly with the scenes concerning Orton and Halliwell and the sets (particularly of their flat with Halliwell\\'s murals decorating every surface) are terribly well done.', 'positive', '1']\n",
            "2 ['I thought this was a wonderful way to spend time on a too hot summer weekend, sitting in the air conditioned theater and watching a light-hearted comedy. The plot is simplistic, but the dialogue is witty and the characters are likable (even the well bread suspected serial killer). While some may be disappointed when they realize this is not Match Point 2: Risk Addiction, I thought it was proof that Woody Allen is still fully in control of the style many of us have grown to love.<br /><br />This was the most I\\'d laughed at one of Woody\\'s comedies in years (dare I say a decade?). While I\\'ve never been impressed with Scarlet Johanson, in this she managed to tone down her \"sexy\" image and jumped right into a average, but spirited young woman.<br /><br />This may not be the crown jewel of his career, but it was wittier than \"Devil Wears Prada\" and more interesting than \"Superman\" a great comedy to go see with friends.', 'positive', '1']\n",
            "3 [\"Basically there's a family where a little boy (Jake) thinks there's a zombie in his closet & his parents are fighting all the time.<br /><br />This movie is slower than a soap opera... and suddenly, Jake decides to become Rambo and kill the zombie.<br /><br />OK, first of all when you're going to make a film you must Decide if its a thriller or a drama! As a drama the movie is watchable. Parents are divorcing & arguing like in real life. And then we have Jake with his closet which totally ruins all the film! I expected to see a BOOGEYMAN similar movie, and instead i watched a drama with some meaningless thriller spots.<br /><br />3 out of 10 just for the well playing parents & descent dialogs. As for the shots with Jake: just ignore them.\", 'negative', '0']\n",
            "Basically there's a family where a little boy (Jake) thinks there's a zombie in his closet & his parents are fighting all the time.<br /><br />This movie is slower than a soap opera... and suddenly, Jake decides to become Rambo and kill the zombie.<br /><br />OK, first of all when you're going to make a film you must Decide if its a thriller or a drama! As a drama the movie is watchable. Parents are divorcing & arguing like in real life. And then we have Jake with his closet which totally ruins all the film! I expected to see a BOOGEYMAN similar movie, and instead i watched a drama with some meaningless thriller spots.<br /><br />3 out of 10 just for the well playing parents & descent dialogs. As for the shots with Jake: just ignore them. negative 0\n"
          ]
        }
      ],
      "source": [
        "import csv\n",
        "import torch\n",
        "import torch.nn as nn\n",
        "import torch.nn.functional as F\n",
        "import torch.optim as optim\n",
        "import torchtext\n",
        "import numpy as np\n",
        "import matplotlib.pyplot as plt\n",
        "\n",
        "file_dir = '/content/drive/My Drive/Colab Notebooks/IMDB Reviews/'\n",
        "\n",
        "def get_data():\n",
        "  data = csv.reader(open(file_dir + \"IMDB_Dataset.csv\",\"rt\", encoding=\"latin-1\"))\n",
        "  next(data)\n",
        "  return data\n",
        "\n",
        "for i,line in enumerate(get_data()):\n",
        "  print(i,line)\n",
        "  if line[2] == '0':\n",
        "\n",
        "    print(line[0],line[1],line[2])\n",
        "    break\n",
        "\n",
        "def split_review(review):\n",
        "  review = review.replace(\".\",\" . \") \\\n",
        "                      .replace(\"?\",\" ? \") \\\n",
        "                      .replace(\";\",\" ; \") \\\n",
        "                      .replace(\",\",\" , \") \\\n",
        "                      .replace(\"$\",\" $ \") \\\n",
        "                      .replace(\"-\",\" - \") \\\n",
        "                      .replace(\"(\", \" ( \") \\\n",
        "                      .replace(\")\", \" ) \") \\\n",
        "                      .replace('\"', ' \" ') \\\n",
        "                      .replace(\"!\", \" ! \") \\\n",
        "                      .replace(\"'\", \" ' \") \\\n",
        "\n",
        "  words = review.lower().split()\n",
        "  return words\n",
        "\n",
        "glove = torchtext.vocab.GloVe(name=\"6B\", dim=100, max_vectors=25000) # use 20k most common words\n"
      ]
    },
    {
      "cell_type": "code",
      "execution_count": null,
      "metadata": {
        "id": "f7mzgAaj1ARr"
      },
      "outputs": [],
      "source": [
        "def get_words(glove_vectors):\n",
        "  train, valid, test = [],[],[]\n",
        "  for i, line in enumerate(get_data()):\n",
        "\n",
        "    review = line[0]\n",
        "\n",
        "    idx = []\n",
        "\n",
        "    for j in split_review(review):\n",
        "      if j in glove_vectors.stoi:\n",
        "        idx.append(glove_vectors.stoi[j])\n",
        "      else:\n",
        "        continue\n",
        "\n",
        "    label_mapping = {\"0\": 0, \"1\": 1}\n",
        "    label = torch.tensor(label_mapping[line[2]]).long()\n",
        "\n",
        "    idx = torch.tensor(idx)\n",
        "\n",
        "    if i % 10 < 8:\n",
        "      train.append((idx,label))\n",
        "    elif i % 10 == 9:\n",
        "      valid.append((idx,label))\n",
        "    else:\n",
        "      test.append((idx,label))\n",
        "  return train, valid, test\n",
        "\n",
        "train, valid, test = get_words(glove)"
      ]
    },
    {
      "cell_type": "code",
      "execution_count": null,
      "metadata": {
        "colab": {
          "base_uri": "https://localhost:8080/"
        },
        "id": "g7Xj3l7f2BZl",
        "outputId": "75a4460b-7490-4e5c-e8e9-1bb094da5946"
      },
      "outputs": [
        {
          "output_type": "stream",
          "name": "stdout",
          "text": [
            "tensor([   48,     3,     0,    68, 17961,    31,  3042,    12,    49,  2641,\n",
            "          120,   176, 12961,  1942,    81,    57,    30, 12765,     2,    39,\n",
            "           32,   248,     1,    19,    37,    14,  2796,   102,  1579,    17,\n",
            "          285,     2,    58,   873,    12,  1869,   285,    59, 12961,    15,\n",
            "           47, 13155,     5,  3468,     3,   714,     1,    42,   208,     6,\n",
            "          248,    25,     0,  1388,   242,     2,  1853,   285,     1,    37,\n",
            "           14,    36,     7,   273,    10,     0, 17173, 21360,    46,     2,\n",
            "           37,   273, 11110,    84, 14771,    17,  9481,     4,  1603,     1,\n",
            "         1739,    46,   714,     2,    47,    14, 16357,     1,     6,     0,\n",
            "         2392,   234,     3,     0,  1388,     2,    14,   175, 12961,    19,\n",
            "           12,    14,     0,  7398,   454,     4,     0, 17864,  2964,   194,\n",
            "           92,     2,    20,  6545,  1674,    13, 19720,   115,     1,    29,\n",
            "         6122,  1519,     3,     0,   997,   111,    64,     0,  2774,    33,\n",
            "         2847, 11274,     5,   621,     1,   100,  5310,    14,    36,   152,\n",
            "           13,     0,  2804,     2, 23608,   115,    14,   163,     4,   109,\n",
            "            2,     2,     1,  2479,     1,     1, 15543,     1,  4991,     1,\n",
            "         8593,     1,  1838,     5,    56,     2,     2,     2,     2,   100,\n",
            "            1,   336,     1,  9604,     5, 18395,  3206,    32,   332,   372,\n",
            "          420,     2,    54,   203,     0,   444,  1574,     3,     0,   273,\n",
            "           14,   445,     4,     0,   853,    12,    20,  1432,   111,    68,\n",
            "          970,    57,  2159, 12248,     2,  4458,  1922,  2490,  4605,    10,\n",
            "         4826,  5810,     1,  4458,  9916,     1,  4458,  7196,     2,     2,\n",
            "            2, 12961,    57,  2159,  7562,   204,     2,     0,    58,  1942,\n",
            "           41,   661,   822,  1869,   285,    19,   100, 10764,    20,    15,\n",
            "        17659,     1,    41,    57,  2159,   203,    41,    15,  1188,    10,\n",
            "           20,     1,    34,    19,    41,  3136,    56,     1,    41,  1154,\n",
            "            7,  4374,    10, 12961,     1,     5,   405, 12352,     4,     0,\n",
            "          152,  1411,     3,  5320,   714,     2,    36,   120,   714,     1,\n",
            "           34, 13820,    23, 22726,  3154,    38,    57,    30,   919,    66,\n",
            "           10,     7, 11559,     1,  5267,    38,    57,  1916,    13,   460,\n",
            "            5,   169,   420,    17,    20,     1,   143,     1,   699,   905,\n",
            "         5267,   134,   852,    75,   997,   445,     4,    44,  1492,     3,\n",
            "          491,  3142,    46,   997,  1221,    24,  2641, 12961,     1,    81,\n",
            "          107,   399,  4031,    17,   102,    14,  9955,  8109,     2,     2,\n",
            "            2,     2,    83,    81,    86,   169,     6,  3255,    17,   392,\n",
            "        13838,   437,     2])\n",
            "tensor(1)\n",
            "tensor(1)\n",
            "tensor(1)\n",
            "tensor(0)\n"
          ]
        }
      ],
      "source": [
        "review, label = train[0]\n",
        "print(review)\n",
        "print(label)\n",
        "\n",
        "review, label = train[1]\n",
        "\n",
        "print(label)\n",
        "\n",
        "review, label = train[2]\n",
        "print(label)\n",
        "\n",
        "review, label = train[3]\n",
        "print(label)"
      ]
    },
    {
      "cell_type": "code",
      "execution_count": null,
      "metadata": {
        "colab": {
          "base_uri": "https://localhost:8080/"
        },
        "id": "EhjAqwYY2BrN",
        "outputId": "069c45f4-500b-422a-e63d-5ea9791fd96b"
      },
      "outputs": [
        {
          "output_type": "stream",
          "name": "stdout",
          "text": [
            "tensor([ 5203,    63,    57,  1534,     7,   213,   111,     7,   333,  1606,\n",
            "           23, 10146,    24,  4198,    63,    57,  1534,     7, 20374,     6,\n",
            "           26, 12876,  1161,    26,  1108,    32,   798,    64,     0,    79,\n",
            "            2,  1005,    14,  6914,    73,     7,  7318,  2832,     2,     2,\n",
            "            2,     5,  3709,     1, 10146,  6038,     4,   399,     5,  1916,\n",
            "            0, 20374,     2,     1,    58,     3,    64,    61,    81,    57,\n",
            "         1765,   222,     4,   159,     7,   319,    81,   390,  2099,    83,\n",
            "           47,     7,  8965,    46,     7,  2692,   805,    19,     7,  2692,\n",
            "            0,  1005,    14,     2,  1108,    32,  1161,  4990,   117,     6,\n",
            "          567,   214,     2,     5,   127,    53,    33, 10146,    17,    26,\n",
            "        12876,    42,  4366,  7401,    64,     0,   319,   805,    41,   287,\n",
            "            4,   253,     7,   793,  1005,     1,     5,   773,    41,  3136,\n",
            "            7,  2692,    17,    77, 15971,  8965,  4752,     2,    66,     3,\n",
            "          206,   120,    10,     0,   143,   697,  1108,  1161,  6556,     2,\n",
            "           19,    10,     0,  2316,    17,   120,  7149,   101,     2])\n",
            "torch.Size([149, 100])\n",
            "tensor([[-0.0894,  0.1817,  0.5919,  ..., -0.4517,  0.0747,  0.5847],\n",
            "        [-0.0842,  0.6960,  0.2838,  ..., -0.5400,  0.5803,  0.4670],\n",
            "        [-0.3456, -0.2499,  0.5868,  ..., -1.3106,  1.0294, -0.0588],\n",
            "        ...,\n",
            "        [-0.3344, -0.0820,  0.5669,  ..., -0.2749,  0.1364,  0.4173],\n",
            "        [-0.1013,  0.1094,  0.2406,  ...,  0.2568,  0.6155,  0.1925],\n",
            "        [-0.3398,  0.2094,  0.4635,  ..., -0.2339,  0.4730, -0.0288]])\n",
            "tensor([[-0.0894,  0.1817,  0.5919,  ..., -0.4517,  0.0747,  0.5847],\n",
            "        [-0.0842,  0.6960,  0.2838,  ..., -0.5400,  0.5803,  0.4670],\n",
            "        [-0.3456, -0.2499,  0.5868,  ..., -1.3106,  1.0294, -0.0588],\n",
            "        ...,\n",
            "        [-0.3344, -0.0820,  0.5669,  ..., -0.2749,  0.1364,  0.4173],\n",
            "        [-0.1013,  0.1094,  0.2406,  ...,  0.2568,  0.6155,  0.1925],\n",
            "        [-0.3398,  0.2094,  0.4635,  ..., -0.2339,  0.4730, -0.0288]])\n",
            "torch.Size([1, 149, 100])\n",
            "torch.Size([1, 1, 100])\n"
          ]
        }
      ],
      "source": [
        "emb = nn.Embedding.from_pretrained(glove.vectors)\n",
        "print(review)\n",
        "review_emb = emb(review)\n",
        "print(review_emb.shape)\n",
        "print(review_emb)\n",
        "RNN_layer = nn.RNN(input_size = 100, hidden_size = 100, batch_first=True)\n",
        "\n",
        "review_input = review_emb.unsqueeze(0)\n",
        "print(review_emb)\n",
        "\n",
        "out, last_hidden = RNN_layer(review_input)\n",
        "\n",
        "print(out.shape)\n",
        "print(last_hidden.shape)"
      ]
    },
    {
      "cell_type": "code",
      "execution_count": null,
      "metadata": {
        "id": "YzlgJmtA2fMk"
      },
      "outputs": [],
      "source": [
        "class MovieReviewGRU(nn.Module):\n",
        "  def __init__(self,input_size,hidden_size,num_classes):\n",
        "    super(MovieReviewGRU, self).__init__()\n",
        "    self.emb = nn.Embedding.from_pretrained(glove.vectors)\n",
        "    self.hidden_size = hidden_size\n",
        "    self.rnn = nn.GRU(input_size, hidden_size, batch_first = True)\n",
        "    self.fc = nn.Linear(hidden_size, num_classes)\n",
        "\n",
        "\n",
        "  def forward(self, x):\n",
        "\n",
        "    x = self.emb(x)\n",
        "    h0 = torch.zeros(1, x.size(0), self.hidden_size)\n",
        "    out, _ = self.rnn(x, h0)\n",
        "    out = self.fc(out[:, -1, :])\n",
        "    return out\n",
        "\n",
        "model = MovieReviewGRU(100, 100, 2)"
      ]
    },
    {
      "cell_type": "code",
      "execution_count": null,
      "metadata": {
        "colab": {
          "base_uri": "https://localhost:8080/"
        },
        "id": "lsjSoal62_M9",
        "outputId": "e94bbebd-113b-44e2-8357-b0ca854774dd"
      },
      "outputs": [
        {
          "output_type": "stream",
          "name": "stdout",
          "text": [
            "torch.Size([353]) tensor(1)\n",
            "torch.Size([172]) tensor(1)\n",
            "torch.Size([187]) tensor(1)\n",
            "torch.Size([149]) tensor(0)\n",
            "torch.Size([244]) tensor(1)\n",
            "torch.Size([148]) tensor(1)\n",
            "torch.Size([168]) tensor(1)\n",
            "torch.Size([201]) tensor(0)\n",
            "torch.Size([93]) tensor(0)\n",
            "torch.Size([190]) tensor(0)\n",
            "torch.Size([413]) tensor(0)\n",
            "torch.Size([122]) tensor(0)\n",
            "torch.Size([57]) tensor(1)\n",
            "torch.Size([167]) tensor(0)\n",
            "torch.Size([155]) tensor(1)\n",
            "torch.Size([261]) tensor(0)\n",
            "torch.Size([356]) tensor(1)\n",
            "torch.Size([219]) tensor(0)\n",
            "torch.Size([83]) tensor(1)\n",
            "torch.Size([387]) tensor(0)\n"
          ]
        }
      ],
      "source": [
        "for i in range(20):\n",
        "  review, label = train[i]\n",
        "  print(review.shape,label)"
      ]
    },
    {
      "cell_type": "code",
      "execution_count": null,
      "metadata": {
        "colab": {
          "base_uri": "https://localhost:8080/"
        },
        "id": "_quCP9DB3CjG",
        "outputId": "6b3d8b36-a726-46a6-e9d5-aa301b20a604"
      },
      "outputs": [
        {
          "output_type": "stream",
          "name": "stdout",
          "text": [
            "torch.Size([413])\n",
            "torch.Size([413])\n",
            "torch.Size([413])\n",
            "torch.Size([413])\n",
            "torch.Size([413])\n",
            "torch.Size([413])\n",
            "torch.Size([413])\n",
            "torch.Size([413])\n",
            "torch.Size([413])\n",
            "torch.Size([413])\n",
            "torch.Size([413])\n",
            "torch.Size([413])\n",
            "torch.Size([413])\n",
            "torch.Size([413])\n",
            "torch.Size([413])\n",
            "torch.Size([413])\n",
            "torch.Size([413])\n",
            "torch.Size([413])\n",
            "torch.Size([413])\n",
            "torch.Size([413])\n"
          ]
        }
      ],
      "source": [
        "from torch.nn.utils.rnn import pad_sequence\n",
        "\n",
        "review_padded = pad_sequence([review for review, label in train[:20]],\n",
        "                            batch_first=True)\n",
        "\n",
        "for i in range(20):\n",
        "  print(review_padded[i].shape)\n",
        "\n",
        "out = model(review_padded)\n",
        "\n"
      ]
    },
    {
      "cell_type": "code",
      "execution_count": null,
      "metadata": {
        "id": "5Oywg_B53NDa"
      },
      "outputs": [],
      "source": [
        "import random\n",
        "\n",
        "class Batching:\n",
        "  def __init__(self,review,batch_size = 32, drop_last = False):\n",
        "    self.reviews_by_length = {}\n",
        "\n",
        "    for words, labels in review:\n",
        "\n",
        "      word_length = words.shape[0]\n",
        "      if word_length in self.reviews_by_length.keys():\n",
        "        self.reviews_by_length[word_length].append((words,labels))\n",
        "\n",
        "      else:\n",
        "        self.reviews_by_length[word_length] = []\n",
        "        self.reviews_by_length[word_length].append((words,labels))\n",
        "\n",
        "      self.loaders = {word_length : torch.utils.data.DataLoader(\n",
        "                                    sentences,\n",
        "                                    batch_size=batch_size,\n",
        "                                    shuffle=True,\n",
        "                                    drop_last=drop_last) # omit last batch if smaller than batch_size\n",
        "                     for word_length, sentences in self.reviews_by_length.items()}\n",
        "\n",
        "\n",
        "  def __iter__(self):\n",
        "\n",
        "    iters = [iter(loader) for loader in self.loaders.values()]\n",
        "    while iters:\n",
        "      im = random.choice(iters)\n",
        "      try:\n",
        "        yield next(im)\n",
        "      except StopIteration:\n",
        "        iters.remove(im)"
      ]
    },
    {
      "cell_type": "code",
      "execution_count": null,
      "metadata": {
        "id": "ak3rhAD83p2w"
      },
      "outputs": [],
      "source": [
        "for i, (reviews, labels) in enumerate(Batching(train, drop_last=True)):\n",
        "    if i > 20:\n",
        "      break"
      ]
    },
    {
      "cell_type": "code",
      "source": [
        "def get_accuracy(model, data_loader):\n",
        "  correct, total = 0.0, 0.0\n",
        "  for reviews, labels in data_loader:\n",
        "    output = model(reviews)\n",
        "    pred = output.max(1, keepdim=True)[1]\n",
        "    correct += pred.eq(labels.view_as(pred)).sum().item()\n",
        "    total += labels.shape[0]\n",
        "  return correct / total\n",
        "\n",
        "test_loader = Batching(test, batch_size=64, drop_last=False)\n",
        "get_accuracy(model, test_loader)"
      ],
      "metadata": {
        "colab": {
          "base_uri": "https://localhost:8080/"
        },
        "id": "2ZC1L8iQj1Fq",
        "outputId": "6675b885-2682-4adf-cc68-baca634ddd3c"
      },
      "execution_count": null,
      "outputs": [
        {
          "output_type": "execute_result",
          "data": {
            "text/plain": [
              "0.4898"
            ]
          },
          "metadata": {},
          "execution_count": 30
        }
      ]
    },
    {
      "cell_type": "code",
      "source": [
        "def train_rnn_network(model, train, valid, num_epochs=5, learning_rate=1e-5):\n",
        "    criterion = nn.CrossEntropyLoss()\n",
        "    optimizer = torch.optim.Adam(model.parameters(), lr=learning_rate)\n",
        "    losses, train_acc, valid_acc = [], [], []\n",
        "    epochs = []\n",
        "    for epoch in range(num_epochs):\n",
        "        for sentences, labels in train:\n",
        "            optimizer.zero_grad()\n",
        "            pred = model(sentences)\n",
        "            loss = criterion(pred, labels)\n",
        "            loss.backward()\n",
        "            optimizer.step()\n",
        "        losses.append(float(loss))\n",
        "\n",
        "        epochs.append(epoch)\n",
        "        train_acc.append(get_accuracy(model, train_loader))\n",
        "        valid_acc.append(get_accuracy(model, valid_loader))\n",
        "        print(\"Epoch %d; Loss %f; Train Acc %f; Val Acc %f\" % (\n",
        "              epoch+1, loss, train_acc[-1], valid_acc[-1]))\n",
        "    # plotting\n",
        "    plt.title(\"Training Curve\")\n",
        "    plt.plot(losses, label=\"Train\")\n",
        "    plt.xlabel(\"Epoch\")\n",
        "    plt.ylabel(\"Loss\")\n",
        "    plt.show()\n",
        "\n",
        "    plt.title(\"Training Curve\")\n",
        "    plt.plot(epochs, train_acc, label=\"Train\")\n",
        "    plt.plot(epochs, valid_acc, label=\"Validation\")\n",
        "    plt.xlabel(\"Epoch\")\n",
        "    plt.ylabel(\"Accuracy\")\n",
        "    plt.legend(loc='best')\n",
        "    plt.show()"
      ],
      "metadata": {
        "id": "TR24IQMTj_1e"
      },
      "execution_count": null,
      "outputs": []
    },
    {
      "cell_type": "code",
      "source": [
        "model = MovieReviewGRU(100, 100, 2)\n",
        "train_loader = Batching(train, batch_size=64, drop_last=True)\n",
        "valid_loader = Batching(valid, batch_size=64, drop_last=False)\n",
        "train_rnn_network(model, train_loader, valid_loader, num_epochs=20, learning_rate=0.0002)\n",
        "get_accuracy(model, test_loader)"
      ],
      "metadata": {
        "colab": {
          "base_uri": "https://localhost:8080/",
          "height": 1000
        },
        "id": "i2R5zYXPkFK7",
        "outputId": "4f48fbf6-9ece-42e7-8507-3e81647eb3b6"
      },
      "execution_count": null,
      "outputs": [
        {
          "output_type": "stream",
          "name": "stdout",
          "text": [
            "Epoch 1; Loss 0.426348; Train Acc 0.776164; Val Acc 0.773600\n",
            "Epoch 2; Loss 0.371672; Train Acc 0.801457; Val Acc 0.795600\n",
            "Epoch 3; Loss 0.587763; Train Acc 0.807139; Val Acc 0.799800\n",
            "Epoch 4; Loss 0.328408; Train Acc 0.836235; Val Acc 0.830000\n",
            "Epoch 5; Loss 0.292890; Train Acc 0.850073; Val Acc 0.840800\n",
            "Epoch 6; Loss 0.251690; Train Acc 0.863361; Val Acc 0.855400\n",
            "Epoch 7; Loss 0.351108; Train Acc 0.867531; Val Acc 0.859800\n",
            "Epoch 8; Loss 0.290473; Train Acc 0.871655; Val Acc 0.863200\n",
            "Epoch 9; Loss 0.358739; Train Acc 0.868631; Val Acc 0.855800\n",
            "Epoch 10; Loss 0.317706; Train Acc 0.882011; Val Acc 0.873200\n",
            "Epoch 11; Loss 0.253662; Train Acc 0.882056; Val Acc 0.870800\n",
            "Epoch 12; Loss 0.366833; Train Acc 0.883156; Val Acc 0.870800\n",
            "Epoch 13; Loss 0.290971; Train Acc 0.888105; Val Acc 0.877600\n",
            "Epoch 14; Loss 0.346798; Train Acc 0.890258; Val Acc 0.876600\n",
            "Epoch 15; Loss 0.338262; Train Acc 0.894016; Val Acc 0.880800\n",
            "Epoch 16; Loss 0.200488; Train Acc 0.896857; Val Acc 0.878200\n",
            "Epoch 17; Loss 0.218557; Train Acc 0.898735; Val Acc 0.881200\n",
            "Epoch 18; Loss 0.346210; Train Acc 0.897911; Val Acc 0.880800\n",
            "Epoch 19; Loss 0.152660; Train Acc 0.897636; Val Acc 0.879200\n",
            "Epoch 20; Loss 0.300274; Train Acc 0.905334; Val Acc 0.887400\n"
          ]
        },
        {
          "output_type": "display_data",
          "data": {
            "text/plain": [
              "<Figure size 640x480 with 1 Axes>"
            ],
            "image/png": "[encoded data removed]"
          },
          "metadata": {}
        },
        {
          "output_type": "display_data",
          "data": {
            "text/plain": [
              "<Figure size 640x480 with 1 Axes>"
            ],
            "image/png": "[encoded data removed]"
          },
          "metadata": {}
        },
        {
          "output_type": "execute_result",
          "data": {
            "text/plain": [
              "0.8854"
            ]
          },
          "metadata": {},
          "execution_count": 32
        }
      ]
    },
    {
      "cell_type": "code",
      "source": [
        "def new_reviews(glove_vector, sample_review):\n",
        "  review = sample_review\n",
        "  idx = [glove_vector.stoi[w] for w in split_review(review) if w in glove_vector.stoi]\n",
        "  idx = torch.tensor(idx)\n",
        "  return idx\n",
        "\n",
        "def sentiment_reader(output):\n",
        "  scalar = (output.squeeze(0)[0]).item()\n",
        "  mapping = {0 : \"negative\", 1 : \"positive\"}\n",
        "  return mapping[scalar]"
      ],
      "metadata": {
        "id": "yp0IPJfL7SdM"
      },
      "execution_count": null,
      "outputs": []
    },
    {
      "cell_type": "code",
      "source": [
        "new_review = new_reviews(glove, \"I cannot believe how poor this movie was\")\n",
        "print(new_review.shape)\n",
        "\n",
        "out = torch.sigmoid(model(new_review.unsqueeze(0)))\n",
        "pred = out.max(1, keepdim=True)[1]\n",
        "sentiment_reader(pred)"
      ],
      "metadata": {
        "colab": {
          "base_uri": "https://localhost:8080/",
          "height": 55
        },
        "id": "m0rwjXRE7mFl",
        "outputId": "40ff6a5b-90cc-43e1-bcf0-d66bbde7d5dc"
      },
      "execution_count": null,
      "outputs": [
        {
          "output_type": "stream",
          "name": "stdout",
          "text": [
            "torch.Size([8])\n"
          ]
        },
        {
          "output_type": "execute_result",
          "data": {
            "text/plain": [
              "'negative'"
            ],
            "application/vnd.google.colaboratory.intrinsic+json": {
              "type": "string"
            }
          },
          "metadata": {},
          "execution_count": 41
        }
      ]
    },
    {
      "cell_type": "code",
      "source": [],
      "metadata": {
        "id": "8YtmzQ4M7zoM"
      },
      "execution_count": null,
      "outputs": []
    }
  ],
  "metadata": {
    "colab": {
      "provenance": []
    },
    "kernelspec": {
      "display_name": "Python 3",
      "name": "python3"
    },
    "language_info": {
      "name": "python"
    }
  },
  "nbformat": 4,
  "nbformat_minor": 0
}